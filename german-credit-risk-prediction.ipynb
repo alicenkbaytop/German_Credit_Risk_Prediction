{
 "cells": [
  {
   "cell_type": "markdown",
   "execution_count": null,
   "metadata": {
    "papermill": {
     "duration": 0.014828,
     "end_time": "2020-08-19T14:30:56.312357",
     "exception": false,
     "start_time": "2020-08-19T14:30:56.297529",
     "status": "completed"
    },
    "tags": []
   },
   "source": [
    "# Introduction\n",
    "![](https://zeynepstefan.com/wp-content/uploads/2018/04/creditrisk.jpg)\n",
    "\n",
    "## Aim:\n",
    "\n",
    "Making risk prediction based on given features.\n",
    "\n",
    "## Context:\n",
    "\n",
    "The original dataset contains 1000 entries with 20 categorial/symbolic attributes prepared by Prof. Hofmann. In this dataset, each entry represents a person who takes a credit by a bank. Each person is classified as good or bad credit risks according to the set of attributes. The link to the original dataset can be found below.\n",
    "\n",
    "## Content:\n",
    "1. [Data Understanding](#1)\n",
    "    * [Load and Check Data](#2)\n",
    "    * [Variable Description](#3)\n",
    "    * [Data Visualization](#4)\n",
    "1. [Data Preprocessing](#5)                          \n",
    "1. [Modeling](#6)\n",
    "    * [KNN Model](#7)\n",
    "    * [SVC Model](#8)\n",
    "    * [XGBoost Model](#9)"
   ]
  },
  {
   "cell_type": "code",
   "execution_count": 1,
   "metadata": {
    "_cell_guid": "b1076dfc-b9ad-4769-8c92-a6c4dae69d19",
    "_kg_hide-input": false,
    "_uuid": "8f2839f25d086af736a60e9eeb907d3b93b6e0e5",
    "execution": {
     "iopub.execute_input": "2020-08-19T14:30:56.346177Z",
     "iopub.status.busy": "2020-08-19T14:30:56.345344Z",
     "iopub.status.idle": "2020-08-19T14:30:59.221400Z",
     "shell.execute_reply": "2020-08-19T14:30:59.220338Z"
    },
    "papermill": {
     "duration": 2.898601,
     "end_time": "2020-08-19T14:30:59.221575",
     "exception": false,
     "start_time": "2020-08-19T14:30:56.322974",
     "status": "completed"
    },
    "tags": []
   },
   "outputs": [
    {
     "name": "stdout",
     "output_type": "stream",
     "text": [
      "/kaggle/input/german-credit-data-with-risk/german_credit_data.csv\n"
     ]
    }
   ],
   "source": [
    "import numpy as np # linear algebra\n",
    "import pandas as pd # data processing, CSV file I/O (e.g. pd.read_csv)\n",
    "import pandas_profiling \n",
    "import seaborn as sns # visualization\n",
    "import matplotlib.pyplot as plt # visualization\n",
    "from sklearn.preprocessing import LabelEncoder # label encoding\n",
    "from sklearn.model_selection import train_test_split # train, test split\n",
    "from sklearn.preprocessing import StandardScaler # normalization\n",
    "from sklearn.neighbors import KNeighborsClassifier # KNN model\n",
    "from sklearn.svm import SVC # SVC model\n",
    "from xgboost import XGBClassifier # XGBoost model\n",
    "from sklearn.model_selection import GridSearchCV, cross_val_score # Gridsearch \n",
    "from sklearn.metrics import accuracy_score, confusion_matrix, classification_report, roc_curve# results\n",
    "\n",
    "import warnings # ignore warning\n",
    "warnings.filterwarnings(\"ignore\")\n",
    "\n",
    "%matplotlib inline\n",
    "\n",
    "import os\n",
    "for dirname, _, filenames in os.walk('/kaggle/input'):\n",
    "    for filename in filenames:\n",
    "        print(os.path.join(dirname, filename))"
   ]
  },
  {
   "cell_type": "markdown",
   "execution_count": null,
   "metadata": {
    "papermill": {
     "duration": 0.010043,
     "end_time": "2020-08-19T14:30:59.242323",
     "exception": false,
     "start_time": "2020-08-19T14:30:59.232280",
     "status": "completed"
    },
    "tags": []
   },
   "source": [
    "<a id=\"1\"></a>\n",
    "# 1) Data Understanding"
   ]
  },
  {
   "cell_type": "markdown",
   "execution_count": null,
   "metadata": {
    "papermill": {
     "duration": 0.00996,
     "end_time": "2020-08-19T14:30:59.262547",
     "exception": false,
     "start_time": "2020-08-19T14:30:59.252587",
     "status": "completed"
    },
    "tags": []
   },
   "source": [
    "<a id=\"2\"></a>\n",
    "## Load and Check Data"
   ]
  },
  {
   "cell_type": "code",
   "execution_count": 2,
   "metadata": {
    "_cell_guid": "79c7e3d0-c299-4dcb-8224-4455121ee9b0",
    "_kg_hide-input": false,
    "_uuid": "d629ff2d2480ee46fbb7e2d37f6b5fab8052498a",
    "execution": {
     "iopub.execute_input": "2020-08-19T14:30:59.295526Z",
     "iopub.status.busy": "2020-08-19T14:30:59.294640Z",
     "iopub.status.idle": "2020-08-19T14:30:59.313766Z",
     "shell.execute_reply": "2020-08-19T14:30:59.313049Z"
    },
    "papermill": {
     "duration": 0.040794,
     "end_time": "2020-08-19T14:30:59.313883",
     "exception": false,
     "start_time": "2020-08-19T14:30:59.273089",
     "status": "completed"
    },
    "tags": []
   },
   "outputs": [],
   "source": [
    "# reading and copying data\n",
    "data = pd.read_csv(\"/kaggle/input/german-credit-data-with-risk/german_credit_data.csv\", index_col = \"Unnamed: 0\")\n",
    "df = data.copy()"
   ]
  },
  {
   "cell_type": "markdown",
   "execution_count": null,
   "metadata": {
    "papermill": {
     "duration": 0.010014,
     "end_time": "2020-08-19T14:30:59.334499",
     "exception": false,
     "start_time": "2020-08-19T14:30:59.324485",
     "status": "completed"
    },
    "tags": []
   },
   "source": [
    "* overview of data"
   ]
  },
  {
   "cell_type": "code",
   "execution_count": 3,
   "metadata": {
    "_kg_hide-input": false,
    "execution": {
     "iopub.execute_input": "2020-08-19T14:30:59.366908Z",
     "iopub.status.busy": "2020-08-19T14:30:59.366268Z",
     "iopub.status.idle": "2020-08-19T14:30:59.377573Z",
     "shell.execute_reply": "2020-08-19T14:30:59.377009Z"
    },
    "papermill": {
     "duration": 0.032946,
     "end_time": "2020-08-19T14:30:59.377702",
     "exception": false,
     "start_time": "2020-08-19T14:30:59.344756",
     "status": "completed"
    },
    "tags": []
   },
   "outputs": [
    {
     "data": {
      "text/html": [
       "<div>\n",
       "<style scoped>\n",
       "    .dataframe tbody tr th:only-of-type {\n",
       "        vertical-align: middle;\n",
       "    }\n",
       "\n",
       "    .dataframe tbody tr th {\n",
       "        vertical-align: top;\n",
       "    }\n",
       "\n",
       "    .dataframe thead th {\n",
       "        text-align: right;\n",
       "    }\n",
       "</style>\n",
       "<table border=\"1\" class=\"dataframe\">\n",
       "  <thead>\n",
       "    <tr style=\"text-align: right;\">\n",
       "      <th></th>\n",
       "      <th>Age</th>\n",
       "      <th>Sex</th>\n",
       "      <th>Job</th>\n",
       "      <th>Housing</th>\n",
       "      <th>Saving accounts</th>\n",
       "      <th>Checking account</th>\n",
       "      <th>Credit amount</th>\n",
       "      <th>Duration</th>\n",
       "      <th>Purpose</th>\n",
       "      <th>Risk</th>\n",
       "    </tr>\n",
       "  </thead>\n",
       "  <tbody>\n",
       "    <tr>\n",
       "      <th>0</th>\n",
       "      <td>67</td>\n",
       "      <td>male</td>\n",
       "      <td>2</td>\n",
       "      <td>own</td>\n",
       "      <td>NaN</td>\n",
       "      <td>little</td>\n",
       "      <td>1169</td>\n",
       "      <td>6</td>\n",
       "      <td>radio/TV</td>\n",
       "      <td>good</td>\n",
       "    </tr>\n",
       "    <tr>\n",
       "      <th>1</th>\n",
       "      <td>22</td>\n",
       "      <td>female</td>\n",
       "      <td>2</td>\n",
       "      <td>own</td>\n",
       "      <td>little</td>\n",
       "      <td>moderate</td>\n",
       "      <td>5951</td>\n",
       "      <td>48</td>\n",
       "      <td>radio/TV</td>\n",
       "      <td>bad</td>\n",
       "    </tr>\n",
       "    <tr>\n",
       "      <th>2</th>\n",
       "      <td>49</td>\n",
       "      <td>male</td>\n",
       "      <td>1</td>\n",
       "      <td>own</td>\n",
       "      <td>little</td>\n",
       "      <td>NaN</td>\n",
       "      <td>2096</td>\n",
       "      <td>12</td>\n",
       "      <td>education</td>\n",
       "      <td>good</td>\n",
       "    </tr>\n",
       "    <tr>\n",
       "      <th>3</th>\n",
       "      <td>45</td>\n",
       "      <td>male</td>\n",
       "      <td>2</td>\n",
       "      <td>free</td>\n",
       "      <td>little</td>\n",
       "      <td>little</td>\n",
       "      <td>7882</td>\n",
       "      <td>42</td>\n",
       "      <td>furniture/equipment</td>\n",
       "      <td>good</td>\n",
       "    </tr>\n",
       "    <tr>\n",
       "      <th>4</th>\n",
       "      <td>53</td>\n",
       "      <td>male</td>\n",
       "      <td>2</td>\n",
       "      <td>free</td>\n",
       "      <td>little</td>\n",
       "      <td>little</td>\n",
       "      <td>4870</td>\n",
       "      <td>24</td>\n",
       "      <td>car</td>\n",
       "      <td>bad</td>\n",
       "    </tr>\n",
       "  </tbody>\n",
       "</table>\n",
       "</div>"
      ],
      "text/plain": [
       "   Age     Sex  Job Housing Saving accounts Checking account  Credit amount  \\\n",
       "0   67    male    2     own             NaN           little           1169   \n",
       "1   22  female    2     own          little         moderate           5951   \n",
       "2   49    male    1     own          little              NaN           2096   \n",
       "3   45    male    2    free          little           little           7882   \n",
       "4   53    male    2    free          little           little           4870   \n",
       "\n",
       "   Duration              Purpose  Risk  \n",
       "0         6             radio/TV  good  \n",
       "1        48             radio/TV   bad  \n",
       "2        12            education  good  \n",
       "3        42  furniture/equipment  good  \n",
       "4        24                  car   bad  "
      ]
     },
     "execution_count": 3,
     "metadata": {},
     "output_type": "execute_result"
    }
   ],
   "source": [
    "# overview of data\n",
    "df.head()"
   ]
  },
  {
   "cell_type": "markdown",
   "execution_count": null,
   "metadata": {
    "papermill": {
     "duration": 0.010257,
     "end_time": "2020-08-19T14:30:59.398621",
     "exception": false,
     "start_time": "2020-08-19T14:30:59.388364",
     "status": "completed"
    },
    "tags": []
   },
   "source": [
    "<a id=\"3\"></a>\n",
    "## Variable Description"
   ]
  },
  {
   "cell_type": "markdown",
   "execution_count": null,
   "metadata": {
    "papermill": {
     "duration": 0.010234,
     "end_time": "2020-08-19T14:30:59.419405",
     "exception": false,
     "start_time": "2020-08-19T14:30:59.409171",
     "status": "completed"
    },
    "tags": []
   },
   "source": [
    "Meaning of the Values:\n",
    "\n",
    "1. Age: Age of the person applying for the credit.\n",
    "1. Sex: Gender of the person applying for the credit.\n",
    "1. Job: 0,1,2,3 The values specified for the job in the form of 0,1,2,3.\n",
    "1. Housing: own, rent or free.\n",
    "1. Saving accounts: the amount of money in the person's bank account.\n",
    "1. Checking account: cheque account.\n",
    "1. Credit amount: Credit amount.\n",
    "1. Duration: Time given for credit payment.\n",
    "1. Purpose: Goal of credit application.\n",
    "1. Risk: Credit application positive or negative."
   ]
  },
  {
   "cell_type": "code",
   "execution_count": 4,
   "metadata": {
    "_kg_hide-input": false,
    "_kg_hide-output": false,
    "execution": {
     "iopub.execute_input": "2020-08-19T14:30:59.456958Z",
     "iopub.status.busy": "2020-08-19T14:30:59.456118Z",
     "iopub.status.idle": "2020-08-19T14:30:59.459421Z",
     "shell.execute_reply": "2020-08-19T14:30:59.460421Z"
    },
    "papermill": {
     "duration": 0.030716,
     "end_time": "2020-08-19T14:30:59.460618",
     "exception": false,
     "start_time": "2020-08-19T14:30:59.429902",
     "status": "completed"
    },
    "tags": []
   },
   "outputs": [
    {
     "name": "stdout",
     "output_type": "stream",
     "text": [
      "<class 'pandas.core.frame.DataFrame'>\n",
      "Int64Index: 1000 entries, 0 to 999\n",
      "Data columns (total 10 columns):\n",
      " #   Column            Non-Null Count  Dtype \n",
      "---  ------            --------------  ----- \n",
      " 0   Age               1000 non-null   int64 \n",
      " 1   Sex               1000 non-null   object\n",
      " 2   Job               1000 non-null   int64 \n",
      " 3   Housing           1000 non-null   object\n",
      " 4   Saving accounts   817 non-null    object\n",
      " 5   Checking account  606 non-null    object\n",
      " 6   Credit amount     1000 non-null   int64 \n",
      " 7   Duration          1000 non-null   int64 \n",
      " 8   Purpose           1000 non-null   object\n",
      " 9   Risk              1000 non-null   object\n",
      "dtypes: int64(4), object(6)\n",
      "memory usage: 85.9+ KB\n"
     ]
    }
   ],
   "source": [
    "df.info()"
   ]
  },
  {
   "cell_type": "markdown",
   "execution_count": null,
   "metadata": {
    "papermill": {
     "duration": 0.010903,
     "end_time": "2020-08-19T14:30:59.483335",
     "exception": false,
     "start_time": "2020-08-19T14:30:59.472432",
     "status": "completed"
    },
    "tags": []
   },
   "source": [
    "Summary of the Columns and Rows:\n",
    "\n",
    "* int64(4): Age, Job, Credit amount, Duration\n",
    "* object(6): Sex, Housing, Saving accounts, Checking account, Purpose, Risk\n",
    "* row number: 1000\n",
    "* column number: 10"
   ]
  },
  {
   "cell_type": "code",
   "execution_count": 5,
   "metadata": {
    "execution": {
     "iopub.execute_input": "2020-08-19T14:30:59.515144Z",
     "iopub.status.busy": "2020-08-19T14:30:59.514492Z",
     "iopub.status.idle": "2020-08-19T14:30:59.537274Z",
     "shell.execute_reply": "2020-08-19T14:30:59.536686Z"
    },
    "papermill": {
     "duration": 0.043391,
     "end_time": "2020-08-19T14:30:59.537396",
     "exception": false,
     "start_time": "2020-08-19T14:30:59.494005",
     "status": "completed"
    },
    "tags": []
   },
   "outputs": [
    {
     "data": {
      "text/html": [
       "<div>\n",
       "<style scoped>\n",
       "    .dataframe tbody tr th:only-of-type {\n",
       "        vertical-align: middle;\n",
       "    }\n",
       "\n",
       "    .dataframe tbody tr th {\n",
       "        vertical-align: top;\n",
       "    }\n",
       "\n",
       "    .dataframe thead th {\n",
       "        text-align: right;\n",
       "    }\n",
       "</style>\n",
       "<table border=\"1\" class=\"dataframe\">\n",
       "  <thead>\n",
       "    <tr style=\"text-align: right;\">\n",
       "      <th></th>\n",
       "      <th>count</th>\n",
       "      <th>mean</th>\n",
       "      <th>std</th>\n",
       "      <th>min</th>\n",
       "      <th>25%</th>\n",
       "      <th>50%</th>\n",
       "      <th>75%</th>\n",
       "      <th>max</th>\n",
       "    </tr>\n",
       "  </thead>\n",
       "  <tbody>\n",
       "    <tr>\n",
       "      <th>Age</th>\n",
       "      <td>1000.0</td>\n",
       "      <td>35.546</td>\n",
       "      <td>11.375469</td>\n",
       "      <td>19.0</td>\n",
       "      <td>27.0</td>\n",
       "      <td>33.0</td>\n",
       "      <td>42.00</td>\n",
       "      <td>75.0</td>\n",
       "    </tr>\n",
       "    <tr>\n",
       "      <th>Job</th>\n",
       "      <td>1000.0</td>\n",
       "      <td>1.904</td>\n",
       "      <td>0.653614</td>\n",
       "      <td>0.0</td>\n",
       "      <td>2.0</td>\n",
       "      <td>2.0</td>\n",
       "      <td>2.00</td>\n",
       "      <td>3.0</td>\n",
       "    </tr>\n",
       "    <tr>\n",
       "      <th>Credit amount</th>\n",
       "      <td>1000.0</td>\n",
       "      <td>3271.258</td>\n",
       "      <td>2822.736876</td>\n",
       "      <td>250.0</td>\n",
       "      <td>1365.5</td>\n",
       "      <td>2319.5</td>\n",
       "      <td>3972.25</td>\n",
       "      <td>18424.0</td>\n",
       "    </tr>\n",
       "    <tr>\n",
       "      <th>Duration</th>\n",
       "      <td>1000.0</td>\n",
       "      <td>20.903</td>\n",
       "      <td>12.058814</td>\n",
       "      <td>4.0</td>\n",
       "      <td>12.0</td>\n",
       "      <td>18.0</td>\n",
       "      <td>24.00</td>\n",
       "      <td>72.0</td>\n",
       "    </tr>\n",
       "  </tbody>\n",
       "</table>\n",
       "</div>"
      ],
      "text/plain": [
       "                count      mean          std    min     25%     50%      75%  \\\n",
       "Age            1000.0    35.546    11.375469   19.0    27.0    33.0    42.00   \n",
       "Job            1000.0     1.904     0.653614    0.0     2.0     2.0     2.00   \n",
       "Credit amount  1000.0  3271.258  2822.736876  250.0  1365.5  2319.5  3972.25   \n",
       "Duration       1000.0    20.903    12.058814    4.0    12.0    18.0    24.00   \n",
       "\n",
       "                   max  \n",
       "Age               75.0  \n",
       "Job                3.0  \n",
       "Credit amount  18424.0  \n",
       "Duration          72.0  "
      ]
     },
     "execution_count": 5,
     "metadata": {},
     "output_type": "execute_result"
    }
   ],
   "source": [
    "df.describe().T"
   ]
  },
  {
   "cell_type": "markdown",
   "execution_count": null,
   "metadata": {
    "papermill": {
     "duration": 0.010682,
     "end_time": "2020-08-19T14:30:59.559166",
     "exception": false,
     "start_time": "2020-08-19T14:30:59.548484",
     "status": "completed"
    },
    "tags": []
   },
   "source": [
    "Summary of Statistics of Numerical Values:\n",
    "\n",
    "* Age: max 75.0, min 19.0, mean 35.546\n",
    "* Job: max 3.0, min 0.0, mean 1.904\n",
    "* Credit amount: max 18424.0, min 250.0, mean 3271.258\n",
    "* Duration: max 72.0, min 4.0, mean 20.903"
   ]
  },
  {
   "cell_type": "code",
   "execution_count": 6,
   "metadata": {
    "_kg_hide-input": false,
    "_kg_hide-output": false,
    "execution": {
     "iopub.execute_input": "2020-08-19T14:30:59.589477Z",
     "iopub.status.busy": "2020-08-19T14:30:59.588762Z",
     "iopub.status.idle": "2020-08-19T14:30:59.598634Z",
     "shell.execute_reply": "2020-08-19T14:30:59.597937Z"
    },
    "papermill": {
     "duration": 0.02871,
     "end_time": "2020-08-19T14:30:59.598786",
     "exception": false,
     "start_time": "2020-08-19T14:30:59.570076",
     "status": "completed"
    },
    "tags": []
   },
   "outputs": [
    {
     "name": "stdout",
     "output_type": "stream",
     "text": [
      "Number of the Unique Values:\n",
      " Age                  53\n",
      "Sex                   2\n",
      "Job                   4\n",
      "Housing               3\n",
      "Saving accounts       4\n",
      "Checking account      3\n",
      "Credit amount       921\n",
      "Duration             33\n",
      "Purpose               8\n",
      "Risk                  2\n",
      "dtype: int64\n"
     ]
    }
   ],
   "source": [
    "columns = [\"Age\",\"Sex\",\"Job\",\"Housing\",\"Saving accounts\",\"Checking account\",\"Credit amount\",\"Duration\",\"Purpose\",\"Risk\"]\n",
    "\n",
    "def unique_value(data_set, column_name):\n",
    "    return data_set[column_name].nunique()\n",
    "\n",
    "print(\"Number of the Unique Values:\\n\",unique_value(df, columns))    "
   ]
  },
  {
   "cell_type": "markdown",
   "execution_count": null,
   "metadata": {
    "papermill": {
     "duration": 0.010848,
     "end_time": "2020-08-19T14:30:59.620777",
     "exception": false,
     "start_time": "2020-08-19T14:30:59.609929",
     "status": "completed"
    },
    "tags": []
   },
   "source": [
    "Number of the Unique Values:\n",
    "\n",
    "* Age(53):\n",
    "* Sex(2): (male, female)\n",
    "* Job(4): (0, 1, 2, 3)\n",
    "* Housing(3): (own, free, rent)\n",
    "* Saving accounts(4): (little, moderate, quite rich, rich)\n",
    "* Checking account(3): (little, moderate, rich)\n",
    "* Credit amount(921):\n",
    "* Duration(33):\n",
    "* Purpose(8): (radio/TV, education, furniture/equipment, car, business, domestic appliances, repairs, vacation/others)\n",
    "* Risk(2): (bad, good)"
   ]
  },
  {
   "cell_type": "code",
   "execution_count": 7,
   "metadata": {
    "_kg_hide-input": false,
    "execution": {
     "iopub.execute_input": "2020-08-19T14:30:59.655898Z",
     "iopub.status.busy": "2020-08-19T14:30:59.650775Z",
     "iopub.status.idle": "2020-08-19T14:30:59.828223Z",
     "shell.execute_reply": "2020-08-19T14:30:59.827468Z"
    },
    "papermill": {
     "duration": 0.196645,
     "end_time": "2020-08-19T14:30:59.828357",
     "exception": false,
     "start_time": "2020-08-19T14:30:59.631712",
     "status": "completed"
    },
    "tags": []
   },
   "outputs": [
    {
     "data": {
      "text/html": [
       "<style  type=\"text/css\" >\n",
       "#T_99fb2d46_e228_11ea_beea_0242ac130202row0_col0,#T_99fb2d46_e228_11ea_beea_0242ac130202row0_col1{\n",
       "            background-color:  #90ee90;\n",
       "            color:  #000000;\n",
       "        }#T_99fb2d46_e228_11ea_beea_0242ac130202row1_col0,#T_99fb2d46_e228_11ea_beea_0242ac130202row1_col1{\n",
       "            background-color:  #c0f5c0;\n",
       "            color:  #000000;\n",
       "        }#T_99fb2d46_e228_11ea_beea_0242ac130202row2_col0,#T_99fb2d46_e228_11ea_beea_0242ac130202row2_col1,#T_99fb2d46_e228_11ea_beea_0242ac130202row3_col0,#T_99fb2d46_e228_11ea_beea_0242ac130202row3_col1,#T_99fb2d46_e228_11ea_beea_0242ac130202row4_col0,#T_99fb2d46_e228_11ea_beea_0242ac130202row4_col1,#T_99fb2d46_e228_11ea_beea_0242ac130202row5_col0,#T_99fb2d46_e228_11ea_beea_0242ac130202row5_col1,#T_99fb2d46_e228_11ea_beea_0242ac130202row6_col0,#T_99fb2d46_e228_11ea_beea_0242ac130202row6_col1,#T_99fb2d46_e228_11ea_beea_0242ac130202row7_col0,#T_99fb2d46_e228_11ea_beea_0242ac130202row7_col1,#T_99fb2d46_e228_11ea_beea_0242ac130202row8_col0,#T_99fb2d46_e228_11ea_beea_0242ac130202row8_col1,#T_99fb2d46_e228_11ea_beea_0242ac130202row9_col0,#T_99fb2d46_e228_11ea_beea_0242ac130202row9_col1{\n",
       "            background-color:  #e9fce9;\n",
       "            color:  #000000;\n",
       "        }</style><table id=\"T_99fb2d46_e228_11ea_beea_0242ac130202\" ><thead>    <tr>        <th class=\"blank level0\" ></th>        <th class=\"col_heading level0 col0\" >Missing Values</th>        <th class=\"col_heading level0 col1\" >% Value</th>    </tr></thead><tbody>\n",
       "                <tr>\n",
       "                        <th id=\"T_99fb2d46_e228_11ea_beea_0242ac130202level0_row0\" class=\"row_heading level0 row0\" >Checking account</th>\n",
       "                        <td id=\"T_99fb2d46_e228_11ea_beea_0242ac130202row0_col0\" class=\"data row0 col0\" >394</td>\n",
       "                        <td id=\"T_99fb2d46_e228_11ea_beea_0242ac130202row0_col1\" class=\"data row0 col1\" >39</td>\n",
       "            </tr>\n",
       "            <tr>\n",
       "                        <th id=\"T_99fb2d46_e228_11ea_beea_0242ac130202level0_row1\" class=\"row_heading level0 row1\" >Saving accounts</th>\n",
       "                        <td id=\"T_99fb2d46_e228_11ea_beea_0242ac130202row1_col0\" class=\"data row1 col0\" >183</td>\n",
       "                        <td id=\"T_99fb2d46_e228_11ea_beea_0242ac130202row1_col1\" class=\"data row1 col1\" >18</td>\n",
       "            </tr>\n",
       "            <tr>\n",
       "                        <th id=\"T_99fb2d46_e228_11ea_beea_0242ac130202level0_row2\" class=\"row_heading level0 row2\" >Risk</th>\n",
       "                        <td id=\"T_99fb2d46_e228_11ea_beea_0242ac130202row2_col0\" class=\"data row2 col0\" >0</td>\n",
       "                        <td id=\"T_99fb2d46_e228_11ea_beea_0242ac130202row2_col1\" class=\"data row2 col1\" >0</td>\n",
       "            </tr>\n",
       "            <tr>\n",
       "                        <th id=\"T_99fb2d46_e228_11ea_beea_0242ac130202level0_row3\" class=\"row_heading level0 row3\" >Purpose</th>\n",
       "                        <td id=\"T_99fb2d46_e228_11ea_beea_0242ac130202row3_col0\" class=\"data row3 col0\" >0</td>\n",
       "                        <td id=\"T_99fb2d46_e228_11ea_beea_0242ac130202row3_col1\" class=\"data row3 col1\" >0</td>\n",
       "            </tr>\n",
       "            <tr>\n",
       "                        <th id=\"T_99fb2d46_e228_11ea_beea_0242ac130202level0_row4\" class=\"row_heading level0 row4\" >Duration</th>\n",
       "                        <td id=\"T_99fb2d46_e228_11ea_beea_0242ac130202row4_col0\" class=\"data row4 col0\" >0</td>\n",
       "                        <td id=\"T_99fb2d46_e228_11ea_beea_0242ac130202row4_col1\" class=\"data row4 col1\" >0</td>\n",
       "            </tr>\n",
       "            <tr>\n",
       "                        <th id=\"T_99fb2d46_e228_11ea_beea_0242ac130202level0_row5\" class=\"row_heading level0 row5\" >Credit amount</th>\n",
       "                        <td id=\"T_99fb2d46_e228_11ea_beea_0242ac130202row5_col0\" class=\"data row5 col0\" >0</td>\n",
       "                        <td id=\"T_99fb2d46_e228_11ea_beea_0242ac130202row5_col1\" class=\"data row5 col1\" >0</td>\n",
       "            </tr>\n",
       "            <tr>\n",
       "                        <th id=\"T_99fb2d46_e228_11ea_beea_0242ac130202level0_row6\" class=\"row_heading level0 row6\" >Housing</th>\n",
       "                        <td id=\"T_99fb2d46_e228_11ea_beea_0242ac130202row6_col0\" class=\"data row6 col0\" >0</td>\n",
       "                        <td id=\"T_99fb2d46_e228_11ea_beea_0242ac130202row6_col1\" class=\"data row6 col1\" >0</td>\n",
       "            </tr>\n",
       "            <tr>\n",
       "                        <th id=\"T_99fb2d46_e228_11ea_beea_0242ac130202level0_row7\" class=\"row_heading level0 row7\" >Job</th>\n",
       "                        <td id=\"T_99fb2d46_e228_11ea_beea_0242ac130202row7_col0\" class=\"data row7 col0\" >0</td>\n",
       "                        <td id=\"T_99fb2d46_e228_11ea_beea_0242ac130202row7_col1\" class=\"data row7 col1\" >0</td>\n",
       "            </tr>\n",
       "            <tr>\n",
       "                        <th id=\"T_99fb2d46_e228_11ea_beea_0242ac130202level0_row8\" class=\"row_heading level0 row8\" >Sex</th>\n",
       "                        <td id=\"T_99fb2d46_e228_11ea_beea_0242ac130202row8_col0\" class=\"data row8 col0\" >0</td>\n",
       "                        <td id=\"T_99fb2d46_e228_11ea_beea_0242ac130202row8_col1\" class=\"data row8 col1\" >0</td>\n",
       "            </tr>\n",
       "            <tr>\n",
       "                        <th id=\"T_99fb2d46_e228_11ea_beea_0242ac130202level0_row9\" class=\"row_heading level0 row9\" >Age</th>\n",
       "                        <td id=\"T_99fb2d46_e228_11ea_beea_0242ac130202row9_col0\" class=\"data row9 col0\" >0</td>\n",
       "                        <td id=\"T_99fb2d46_e228_11ea_beea_0242ac130202row9_col1\" class=\"data row9 col1\" >0</td>\n",
       "            </tr>\n",
       "    </tbody></table>"
      ],
      "text/plain": [
       "<pandas.io.formats.style.Styler at 0x7fd9983f4dd0>"
      ]
     },
     "execution_count": 7,
     "metadata": {},
     "output_type": "execute_result"
    }
   ],
   "source": [
    "# Missing Value Table\n",
    "def missing_value_table(df):\n",
    "    missing_value = df.isna().sum().sort_values(ascending=False)\n",
    "    missing_value_percent = 100 * df.isna().sum()//len(df)\n",
    "    missing_value_table = pd.concat([missing_value, missing_value_percent], axis=1)\n",
    "    missing_value_table_return = missing_value_table.rename(columns = {0 : 'Missing Values', 1 : '% Value'})\n",
    "    cm = sns.light_palette(\"lightgreen\", as_cmap=True)\n",
    "    missing_value_table_return = missing_value_table_return.style.background_gradient(cmap=cm)\n",
    "    return missing_value_table_return\n",
    "  \n",
    "missing_value_table(df)"
   ]
  },
  {
   "cell_type": "markdown",
   "execution_count": null,
   "metadata": {
    "papermill": {
     "duration": 0.01113,
     "end_time": "2020-08-19T14:30:59.851206",
     "exception": false,
     "start_time": "2020-08-19T14:30:59.840076",
     "status": "completed"
    },
    "tags": []
   },
   "source": [
    "Number of Missing Values:\n",
    "\n",
    "* Checking account: number of missing value 394, percent of missing value 39\n",
    "* Saving accounts: number of missing value 183, percent of missing value18"
   ]
  },
  {
   "cell_type": "code",
   "execution_count": 8,
   "metadata": {
    "_kg_hide-input": false,
    "execution": {
     "iopub.execute_input": "2020-08-19T14:30:59.886562Z",
     "iopub.status.busy": "2020-08-19T14:30:59.885492Z",
     "iopub.status.idle": "2020-08-19T14:30:59.921950Z",
     "shell.execute_reply": "2020-08-19T14:30:59.921376Z"
    },
    "papermill": {
     "duration": 0.059272,
     "end_time": "2020-08-19T14:30:59.922079",
     "exception": false,
     "start_time": "2020-08-19T14:30:59.862807",
     "status": "completed"
    },
    "tags": []
   },
   "outputs": [
    {
     "data": {
      "text/html": [
       "<style  type=\"text/css\" >\n",
       "#T_9a09f09c_e228_11ea_beea_0242ac130202row0_col0{\n",
       "            background-color:  #d9f9d9;\n",
       "            color:  #000000;\n",
       "        }#T_9a09f09c_e228_11ea_beea_0242ac130202row0_col1{\n",
       "            background-color:  #cef8ce;\n",
       "            color:  #000000;\n",
       "        }#T_9a09f09c_e228_11ea_beea_0242ac130202row1_col0,#T_9a09f09c_e228_11ea_beea_0242ac130202row1_col1{\n",
       "            background-color:  #90ee90;\n",
       "            color:  #000000;\n",
       "        }#T_9a09f09c_e228_11ea_beea_0242ac130202row2_col0{\n",
       "            background-color:  #e6fbe6;\n",
       "            color:  #000000;\n",
       "        }#T_9a09f09c_e228_11ea_beea_0242ac130202row2_col1,#T_9a09f09c_e228_11ea_beea_0242ac130202row7_col0{\n",
       "            background-color:  #e9fce9;\n",
       "            color:  #000000;\n",
       "        }#T_9a09f09c_e228_11ea_beea_0242ac130202row3_col0{\n",
       "            background-color:  #d4f8d4;\n",
       "            color:  #000000;\n",
       "        }#T_9a09f09c_e228_11ea_beea_0242ac130202row3_col1{\n",
       "            background-color:  #defade;\n",
       "            color:  #000000;\n",
       "        }#T_9a09f09c_e228_11ea_beea_0242ac130202row4_col0{\n",
       "            background-color:  #a4f1a4;\n",
       "            color:  #000000;\n",
       "        }#T_9a09f09c_e228_11ea_beea_0242ac130202row4_col1{\n",
       "            background-color:  #c3f6c3;\n",
       "            color:  #000000;\n",
       "        }#T_9a09f09c_e228_11ea_beea_0242ac130202row5_col0{\n",
       "            background-color:  #99ef99;\n",
       "            color:  #000000;\n",
       "        }#T_9a09f09c_e228_11ea_beea_0242ac130202row5_col1{\n",
       "            background-color:  #a2f1a2;\n",
       "            color:  #000000;\n",
       "        }#T_9a09f09c_e228_11ea_beea_0242ac130202row6_col0{\n",
       "            background-color:  #e7fbe7;\n",
       "            color:  #000000;\n",
       "        }#T_9a09f09c_e228_11ea_beea_0242ac130202row6_col1{\n",
       "            background-color:  #e5fbe5;\n",
       "            color:  #000000;\n",
       "        }#T_9a09f09c_e228_11ea_beea_0242ac130202row7_col1{\n",
       "            background-color:  #e8fbe8;\n",
       "            color:  #000000;\n",
       "        }</style><table id=\"T_9a09f09c_e228_11ea_beea_0242ac130202\" ><thead>    <tr>        <th class=\"index_name level0\" >Sex</th>        <th class=\"col_heading level0 col0\" >female</th>        <th class=\"col_heading level0 col1\" >male</th>    </tr>    <tr>        <th class=\"index_name level0\" >Purpose</th>        <th class=\"blank\" ></th>        <th class=\"blank\" ></th>    </tr></thead><tbody>\n",
       "                <tr>\n",
       "                        <th id=\"T_9a09f09c_e228_11ea_beea_0242ac130202level0_row0\" class=\"row_heading level0 row0\" >business</th>\n",
       "                        <td id=\"T_9a09f09c_e228_11ea_beea_0242ac130202row0_col0\" class=\"data row0 col0\" >19</td>\n",
       "                        <td id=\"T_9a09f09c_e228_11ea_beea_0242ac130202row0_col1\" class=\"data row0 col1\" >78</td>\n",
       "            </tr>\n",
       "            <tr>\n",
       "                        <th id=\"T_9a09f09c_e228_11ea_beea_0242ac130202level0_row1\" class=\"row_heading level0 row1\" >car</th>\n",
       "                        <td id=\"T_9a09f09c_e228_11ea_beea_0242ac130202row1_col0\" class=\"data row1 col0\" >94</td>\n",
       "                        <td id=\"T_9a09f09c_e228_11ea_beea_0242ac130202row1_col1\" class=\"data row1 col1\" >243</td>\n",
       "            </tr>\n",
       "            <tr>\n",
       "                        <th id=\"T_9a09f09c_e228_11ea_beea_0242ac130202level0_row2\" class=\"row_heading level0 row2\" >domestic appliances</th>\n",
       "                        <td id=\"T_9a09f09c_e228_11ea_beea_0242ac130202row2_col0\" class=\"data row2 col0\" >6</td>\n",
       "                        <td id=\"T_9a09f09c_e228_11ea_beea_0242ac130202row2_col1\" class=\"data row2 col1\" >6</td>\n",
       "            </tr>\n",
       "            <tr>\n",
       "                        <th id=\"T_9a09f09c_e228_11ea_beea_0242ac130202level0_row3\" class=\"row_heading level0 row3\" >education</th>\n",
       "                        <td id=\"T_9a09f09c_e228_11ea_beea_0242ac130202row3_col0\" class=\"data row3 col0\" >24</td>\n",
       "                        <td id=\"T_9a09f09c_e228_11ea_beea_0242ac130202row3_col1\" class=\"data row3 col1\" >35</td>\n",
       "            </tr>\n",
       "            <tr>\n",
       "                        <th id=\"T_9a09f09c_e228_11ea_beea_0242ac130202level0_row4\" class=\"row_heading level0 row4\" >furniture/equipment</th>\n",
       "                        <td id=\"T_9a09f09c_e228_11ea_beea_0242ac130202row4_col0\" class=\"data row4 col0\" >74</td>\n",
       "                        <td id=\"T_9a09f09c_e228_11ea_beea_0242ac130202row4_col1\" class=\"data row4 col1\" >107</td>\n",
       "            </tr>\n",
       "            <tr>\n",
       "                        <th id=\"T_9a09f09c_e228_11ea_beea_0242ac130202level0_row5\" class=\"row_heading level0 row5\" >radio/TV</th>\n",
       "                        <td id=\"T_9a09f09c_e228_11ea_beea_0242ac130202row5_col0\" class=\"data row5 col0\" >85</td>\n",
       "                        <td id=\"T_9a09f09c_e228_11ea_beea_0242ac130202row5_col1\" class=\"data row5 col1\" >195</td>\n",
       "            </tr>\n",
       "            <tr>\n",
       "                        <th id=\"T_9a09f09c_e228_11ea_beea_0242ac130202level0_row6\" class=\"row_heading level0 row6\" >repairs</th>\n",
       "                        <td id=\"T_9a09f09c_e228_11ea_beea_0242ac130202row6_col0\" class=\"data row6 col0\" >5</td>\n",
       "                        <td id=\"T_9a09f09c_e228_11ea_beea_0242ac130202row6_col1\" class=\"data row6 col1\" >17</td>\n",
       "            </tr>\n",
       "            <tr>\n",
       "                        <th id=\"T_9a09f09c_e228_11ea_beea_0242ac130202level0_row7\" class=\"row_heading level0 row7\" >vacation/others</th>\n",
       "                        <td id=\"T_9a09f09c_e228_11ea_beea_0242ac130202row7_col0\" class=\"data row7 col0\" >3</td>\n",
       "                        <td id=\"T_9a09f09c_e228_11ea_beea_0242ac130202row7_col1\" class=\"data row7 col1\" >9</td>\n",
       "            </tr>\n",
       "    </tbody></table>"
      ],
      "text/plain": [
       "<pandas.io.formats.style.Styler at 0x7fd9983fdcd0>"
      ]
     },
     "execution_count": 8,
     "metadata": {},
     "output_type": "execute_result"
    }
   ],
   "source": [
    "date_int = [\"Purpose\", 'Sex']\n",
    "cm = sns.light_palette(\"lightgreen\", as_cmap=True)\n",
    "pd.crosstab(df[date_int[0]], df[date_int[1]]).style.background_gradient(cmap = cm)"
   ]
  },
  {
   "cell_type": "markdown",
   "execution_count": null,
   "metadata": {
    "papermill": {
     "duration": 0.013753,
     "end_time": "2020-08-19T14:30:59.949398",
     "exception": false,
     "start_time": "2020-08-19T14:30:59.935645",
     "status": "completed"
    },
    "tags": []
   },
   "source": [
    "Sex and Purpose:\n",
    "\n",
    "* Women(94) and Men(243) applied for credit mostly for cars.\n",
    "* Women(3) applied for credit least for vacation/others.\n",
    "* Men(6) applied for credit least for domestic appliances."
   ]
  },
  {
   "cell_type": "markdown",
   "execution_count": null,
   "metadata": {
    "papermill": {
     "duration": 0.011168,
     "end_time": "2020-08-19T14:30:59.973514",
     "exception": false,
     "start_time": "2020-08-19T14:30:59.962346",
     "status": "completed"
    },
    "tags": []
   },
   "source": [
    "<a id=\"4\"></a>\n",
    "## Data Visualization"
   ]
  },
  {
   "cell_type": "code",
   "execution_count": 9,
   "metadata": {
    "execution": {
     "iopub.execute_input": "2020-08-19T14:31:00.005424Z",
     "iopub.status.busy": "2020-08-19T14:31:00.004629Z",
     "iopub.status.idle": "2020-08-19T14:31:00.297577Z",
     "shell.execute_reply": "2020-08-19T14:31:00.297024Z"
    },
    "papermill": {
     "duration": 0.311356,
     "end_time": "2020-08-19T14:31:00.297705",
     "exception": false,
     "start_time": "2020-08-19T14:30:59.986349",
     "status": "completed"
    },
    "tags": []
   },
   "outputs": [
    {
     "data": {
      "image/png": "[encoded data removed]",
      "text/plain": [
       "<Figure size 1080x360 with 2 Axes>"
      ]
     },
     "metadata": {
      "needs_background": "light"
     },
     "output_type": "display_data"
    }
   ],
   "source": [
    "fig, ax = plt.subplots(1,2,figsize=(15,5))\n",
    "\n",
    "sns.countplot(df['Sex'], ax=ax[0]).set_title('Male - Female Ratio');\n",
    "sns.countplot(df.Risk, ax=ax[1]).set_title('Good - Bad Risk Ratio');"
   ]
  },
  {
   "cell_type": "markdown",
   "execution_count": null,
   "metadata": {
    "papermill": {
     "duration": 0.011363,
     "end_time": "2020-08-19T14:31:00.321268",
     "exception": false,
     "start_time": "2020-08-19T14:31:00.309905",
     "status": "completed"
    },
    "tags": []
   },
   "source": [
    "* Looking at the graphics, the rate of males in this data set is higher than the rate of females.\n",
    "* Looking at the graphics, the rate of good risk in this data set is higher than the rate of bad risk."
   ]
  },
  {
   "cell_type": "code",
   "execution_count": 10,
   "metadata": {
    "execution": {
     "iopub.execute_input": "2020-08-19T14:31:00.357780Z",
     "iopub.status.busy": "2020-08-19T14:31:00.356664Z",
     "iopub.status.idle": "2020-08-19T14:31:04.227678Z",
     "shell.execute_reply": "2020-08-19T14:31:04.228174Z"
    },
    "papermill": {
     "duration": 3.895532,
     "end_time": "2020-08-19T14:31:04.228351",
     "exception": false,
     "start_time": "2020-08-19T14:31:00.332819",
     "status": "completed"
    },
    "tags": []
   },
   "outputs": [
    {
     "data": {
      "image/png": "[encoded data removed]",
      "text/plain": [
       "<Figure size 1080x360 with 2 Axes>"
      ]
     },
     "metadata": {
      "needs_background": "light"
     },
     "output_type": "display_data"
    }
   ],
   "source": [
    "fig, ax = plt.subplots(2,1,figsize=(15,5))\n",
    "plt.tight_layout(2)\n",
    "sns.lineplot(data=df, x='Age', y='Credit amount', hue='Sex', lw=2, ax=ax[0]).set_title(\"Credit Amount Graph Depending on Age and Duration by Sex\", fontsize=15);\n",
    "sns.lineplot(data=df, x='Duration', y='Credit amount', hue='Sex', lw=2, ax=ax[1]);"
   ]
  },
  {
   "cell_type": "markdown",
   "execution_count": null,
   "metadata": {
    "papermill": {
     "duration": 0.013286,
     "end_time": "2020-08-19T14:31:04.254830",
     "exception": false,
     "start_time": "2020-08-19T14:31:04.241544",
     "status": "completed"
    },
    "tags": []
   },
   "source": [
    "* Looking at the chart, the highest credit amount was reached at the age of 60 and around.\n",
    "* Looking at the graph, the highest loan amounts between 50-60 duration have been reached."
   ]
  },
  {
   "cell_type": "code",
   "execution_count": 11,
   "metadata": {
    "execution": {
     "iopub.execute_input": "2020-08-19T14:31:04.290981Z",
     "iopub.status.busy": "2020-08-19T14:31:04.287568Z",
     "iopub.status.idle": "2020-08-19T14:31:04.441323Z",
     "shell.execute_reply": "2020-08-19T14:31:04.440672Z"
    },
    "papermill": {
     "duration": 0.173983,
     "end_time": "2020-08-19T14:31:04.441444",
     "exception": false,
     "start_time": "2020-08-19T14:31:04.267461",
     "status": "completed"
    },
    "tags": []
   },
   "outputs": [
    {
     "data": {
      "image/png": "[encoded data removed]",
      "text/plain": [
       "<Figure size 432x288 with 1 Axes>"
      ]
     },
     "metadata": {
      "needs_background": "light"
     },
     "output_type": "display_data"
    }
   ],
   "source": [
    "sns.countplot(x=\"Housing\", hue=\"Risk\", data=df).set_title(\"Housing and Frequency Graph by Risk\", fontsize=15);\n",
    "plt.show()"
   ]
  },
  {
   "cell_type": "markdown",
   "execution_count": null,
   "metadata": {
    "papermill": {
     "duration": 0.012396,
     "end_time": "2020-08-19T14:31:04.466701",
     "exception": false,
     "start_time": "2020-08-19T14:31:04.454305",
     "status": "completed"
    },
    "tags": []
   },
   "source": [
    "* The risk rates are higher in the own, free and rent categories then bad risk.\n",
    "* Owners of their own homes are the people who apply for a loan the most."
   ]
  },
  {
   "cell_type": "code",
   "execution_count": 12,
   "metadata": {
    "execution": {
     "iopub.execute_input": "2020-08-19T14:31:04.504797Z",
     "iopub.status.busy": "2020-08-19T14:31:04.499892Z",
     "iopub.status.idle": "2020-08-19T14:31:04.825508Z",
     "shell.execute_reply": "2020-08-19T14:31:04.825962Z"
    },
    "papermill": {
     "duration": 0.34658,
     "end_time": "2020-08-19T14:31:04.826117",
     "exception": false,
     "start_time": "2020-08-19T14:31:04.479537",
     "status": "completed"
    },
    "tags": []
   },
   "outputs": [
    {
     "data": {
      "image/png": "[encoded data removed]",
      "text/plain": [
       "<Figure size 720x432 with 2 Axes>"
      ]
     },
     "metadata": {
      "needs_background": "light"
     },
     "output_type": "display_data"
    }
   ],
   "source": [
    "fig, (ax1, ax2) = plt.subplots(1,2, figsize=(10,6))\n",
    "sns.countplot(x=\"Saving accounts\", hue=\"Risk\", data=df, ax=ax1);\n",
    "sns.countplot(x=\"Checking account\", hue=\"Risk\", data=df, ax=ax2);\n",
    "ax1.set_xticklabels(ax1.get_xticklabels(), rotation=45)\n",
    "ax2.set_xticklabels(ax2.get_xticklabels(), rotation=45)\n",
    "fig.show()"
   ]
  },
  {
   "cell_type": "markdown",
   "execution_count": null,
   "metadata": {
    "papermill": {
     "duration": 0.012572,
     "end_time": "2020-08-19T14:31:04.851940",
     "exception": false,
     "start_time": "2020-08-19T14:31:04.839368",
     "status": "completed"
    },
    "tags": []
   },
   "source": [
    "* At first scan, it is thought that the rich people will get more credit, but it does not seem to be clearly on the graphics."
   ]
  },
  {
   "cell_type": "code",
   "execution_count": 13,
   "metadata": {
    "execution": {
     "iopub.execute_input": "2020-08-19T14:31:04.890254Z",
     "iopub.status.busy": "2020-08-19T14:31:04.884668Z",
     "iopub.status.idle": "2020-08-19T14:31:05.514149Z",
     "shell.execute_reply": "2020-08-19T14:31:05.513626Z"
    },
    "papermill": {
     "duration": 0.649011,
     "end_time": "2020-08-19T14:31:05.514304",
     "exception": false,
     "start_time": "2020-08-19T14:31:04.865293",
     "status": "completed"
    },
    "tags": []
   },
   "outputs": [
    {
     "data": {
      "image/png": "[encoded data removed]",
      "text/plain": [
       "<Figure size 1440x360 with 3 Axes>"
      ]
     },
     "metadata": {
      "needs_background": "light"
     },
     "output_type": "display_data"
    }
   ],
   "source": [
    "fig, ax = plt.subplots(1,3,figsize=(20,5))\n",
    "plt.suptitle('Box Plots of Age, Duration and Credit amount.',fontsize = 15)\n",
    "sns.boxplot(df['Credit amount'], ax=ax[0]);\n",
    "sns.boxplot(df['Duration'], ax=ax[1]);\n",
    "sns.boxplot(df['Age'], ax=ax[2]);\n",
    "plt.show()"
   ]
  },
  {
   "cell_type": "code",
   "execution_count": 14,
   "metadata": {
    "execution": {
     "iopub.execute_input": "2020-08-19T14:31:05.549784Z",
     "iopub.status.busy": "2020-08-19T14:31:05.548033Z",
     "iopub.status.idle": "2020-08-19T14:31:05.775450Z",
     "shell.execute_reply": "2020-08-19T14:31:05.774911Z"
    },
    "papermill": {
     "duration": 0.247584,
     "end_time": "2020-08-19T14:31:05.775576",
     "exception": false,
     "start_time": "2020-08-19T14:31:05.527992",
     "status": "completed"
    },
    "tags": []
   },
   "outputs": [
    {
     "data": {
      "image/png": "[encoded data removed]",
      "text/plain": [
       "<Figure size 432x288 with 2 Axes>"
      ]
     },
     "metadata": {
      "needs_background": "light"
     },
     "output_type": "display_data"
    }
   ],
   "source": [
    "cor = df.corr()\n",
    "sns.heatmap(cor, annot=True).set_title(\"Correlation Graph of Data Set\",fontsize=15);\n",
    "plt.show()"
   ]
  },
  {
   "cell_type": "markdown",
   "execution_count": null,
   "metadata": {
    "papermill": {
     "duration": 0.013346,
     "end_time": "2020-08-19T14:31:05.802720",
     "exception": false,
     "start_time": "2020-08-19T14:31:05.789374",
     "status": "completed"
    },
    "tags": []
   },
   "source": [
    "* There is a correlation between Credit amount and Duration(0.62)."
   ]
  },
  {
   "cell_type": "markdown",
   "execution_count": null,
   "metadata": {
    "papermill": {
     "duration": 0.013267,
     "end_time": "2020-08-19T14:31:05.829667",
     "exception": false,
     "start_time": "2020-08-19T14:31:05.816400",
     "status": "completed"
    },
    "tags": []
   },
   "source": [
    "<a id=\"5\"></a>\n",
    "# 2) Data Preprocessing"
   ]
  },
  {
   "cell_type": "code",
   "execution_count": 15,
   "metadata": {
    "execution": {
     "iopub.execute_input": "2020-08-19T14:31:05.864864Z",
     "iopub.status.busy": "2020-08-19T14:31:05.864137Z",
     "iopub.status.idle": "2020-08-19T14:31:05.867442Z",
     "shell.execute_reply": "2020-08-19T14:31:05.866803Z"
    },
    "papermill": {
     "duration": 0.024108,
     "end_time": "2020-08-19T14:31:05.867565",
     "exception": false,
     "start_time": "2020-08-19T14:31:05.843457",
     "status": "completed"
    },
    "tags": []
   },
   "outputs": [],
   "source": [
    "# Label Encoding\n",
    "columns_label = [\"Sex\",\"Risk\"]\n",
    "labelencoder = LabelEncoder()\n",
    "for i in columns_label:\n",
    "    df[i] = labelencoder.fit_transform(df[i])"
   ]
  },
  {
   "cell_type": "markdown",
   "execution_count": null,
   "metadata": {
    "papermill": {
     "duration": 0.013373,
     "end_time": "2020-08-19T14:31:05.894724",
     "exception": false,
     "start_time": "2020-08-19T14:31:05.881351",
     "status": "completed"
    },
    "tags": []
   },
   "source": [
    "* Label encoding"
   ]
  },
  {
   "cell_type": "code",
   "execution_count": 16,
   "metadata": {
    "execution": {
     "iopub.execute_input": "2020-08-19T14:31:05.932718Z",
     "iopub.status.busy": "2020-08-19T14:31:05.932010Z",
     "iopub.status.idle": "2020-08-19T14:31:05.935319Z",
     "shell.execute_reply": "2020-08-19T14:31:05.934772Z"
    },
    "papermill": {
     "duration": 0.026978,
     "end_time": "2020-08-19T14:31:05.935448",
     "exception": false,
     "start_time": "2020-08-19T14:31:05.908470",
     "status": "completed"
    },
    "tags": []
   },
   "outputs": [],
   "source": [
    "Cat_Age = []\n",
    "for i in df[\"Age\"]:\n",
    "    if i<25:\n",
    "        Cat_Age.append(\"0-25\")\n",
    "    elif (i>=25) and (i<30):\n",
    "        Cat_Age.append(\"25-30\")\n",
    "    elif (i>=30) and (i<35):\n",
    "        Cat_Age.append(\"30-35\")\n",
    "    elif (i>=35) and (i<40):\n",
    "        Cat_Age.append(\"35-40\")\n",
    "    elif (i>=40) and (i<50):\n",
    "        Cat_Age.append(\"40-50\")\n",
    "    elif (i>=50) and (i<76):\n",
    "        Cat_Age.append(\"50-75\")\n",
    "        \n",
    "df[\"Cat Age\"] = Cat_Age        "
   ]
  },
  {
   "cell_type": "markdown",
   "execution_count": null,
   "metadata": {
    "papermill": {
     "duration": 0.01353,
     "end_time": "2020-08-19T14:31:05.963002",
     "exception": false,
     "start_time": "2020-08-19T14:31:05.949472",
     "status": "completed"
    },
    "tags": []
   },
   "source": [
    "* converting age to category."
   ]
  },
  {
   "cell_type": "code",
   "execution_count": 17,
   "metadata": {
    "execution": {
     "iopub.execute_input": "2020-08-19T14:31:05.998559Z",
     "iopub.status.busy": "2020-08-19T14:31:05.997892Z",
     "iopub.status.idle": "2020-08-19T14:31:06.018459Z",
     "shell.execute_reply": "2020-08-19T14:31:06.017731Z"
    },
    "papermill": {
     "duration": 0.041792,
     "end_time": "2020-08-19T14:31:06.018583",
     "exception": false,
     "start_time": "2020-08-19T14:31:05.976791",
     "status": "completed"
    },
    "tags": []
   },
   "outputs": [],
   "source": [
    "# Get Dummies\n",
    "columns_dummy = ['Housing','Saving accounts','Checking account',\"Purpose\",\"Cat Age\"]\n",
    "for i in columns_dummy:\n",
    "    df = pd.concat([df, pd.get_dummies(df[i])], axis=1)"
   ]
  },
  {
   "cell_type": "markdown",
   "execution_count": null,
   "metadata": {
    "papermill": {
     "duration": 0.013538,
     "end_time": "2020-08-19T14:31:06.094598",
     "exception": false,
     "start_time": "2020-08-19T14:31:06.081060",
     "status": "completed"
    },
    "tags": []
   },
   "source": [
    "* Used get dummies method for some columns."
   ]
  },
  {
   "cell_type": "code",
   "execution_count": 18,
   "metadata": {
    "execution": {
     "iopub.execute_input": "2020-08-19T14:31:06.129022Z",
     "iopub.status.busy": "2020-08-19T14:31:06.128341Z",
     "iopub.status.idle": "2020-08-19T14:31:06.133513Z",
     "shell.execute_reply": "2020-08-19T14:31:06.132927Z"
    },
    "papermill": {
     "duration": 0.025223,
     "end_time": "2020-08-19T14:31:06.133655",
     "exception": false,
     "start_time": "2020-08-19T14:31:06.108432",
     "status": "completed"
    },
    "tags": []
   },
   "outputs": [],
   "source": [
    "df.drop(['Housing','Saving accounts','Checking account',\"Purpose\",\"Age\",\"Cat Age\"], axis = 1, inplace=True)"
   ]
  },
  {
   "cell_type": "markdown",
   "execution_count": null,
   "metadata": {
    "papermill": {
     "duration": 0.013196,
     "end_time": "2020-08-19T14:31:06.160649",
     "exception": false,
     "start_time": "2020-08-19T14:31:06.147453",
     "status": "completed"
    },
    "tags": []
   },
   "source": [
    "* drop unnecessary columns."
   ]
  },
  {
   "cell_type": "markdown",
   "execution_count": null,
   "metadata": {
    "papermill": {
     "duration": 0.013388,
     "end_time": "2020-08-19T14:31:06.187760",
     "exception": false,
     "start_time": "2020-08-19T14:31:06.174372",
     "status": "completed"
    },
    "tags": []
   },
   "source": [
    "!!! missing values were not filled or droped because when filled or droped, the accuracy value was decreasing. "
   ]
  },
  {
   "cell_type": "markdown",
   "execution_count": null,
   "metadata": {
    "papermill": {
     "duration": 0.013344,
     "end_time": "2020-08-19T14:31:06.214943",
     "exception": false,
     "start_time": "2020-08-19T14:31:06.201599",
     "status": "completed"
    },
    "tags": []
   },
   "source": [
    "<a id=\"6\"></a>\n",
    "# 3) Modeling"
   ]
  },
  {
   "cell_type": "code",
   "execution_count": 19,
   "metadata": {
    "execution": {
     "iopub.execute_input": "2020-08-19T14:31:06.250020Z",
     "iopub.status.busy": "2020-08-19T14:31:06.249284Z",
     "iopub.status.idle": "2020-08-19T14:31:06.254762Z",
     "shell.execute_reply": "2020-08-19T14:31:06.254094Z"
    },
    "papermill": {
     "duration": 0.026104,
     "end_time": "2020-08-19T14:31:06.254903",
     "exception": false,
     "start_time": "2020-08-19T14:31:06.228799",
     "status": "completed"
    },
    "tags": []
   },
   "outputs": [],
   "source": [
    "y = df.Risk\n",
    "X = df.drop(\"Risk\", axis = 1)\n",
    "X_train, X_test, y_train, y_test = train_test_split(X, y, test_size = 0.2, random_state = 42)"
   ]
  },
  {
   "cell_type": "markdown",
   "execution_count": null,
   "metadata": {
    "papermill": {
     "duration": 0.013733,
     "end_time": "2020-08-19T14:31:06.282768",
     "exception": false,
     "start_time": "2020-08-19T14:31:06.269035",
     "status": "completed"
    },
    "tags": []
   },
   "source": [
    "* Separated data as train and test."
   ]
  },
  {
   "cell_type": "code",
   "execution_count": 20,
   "metadata": {
    "execution": {
     "iopub.execute_input": "2020-08-19T14:31:06.319734Z",
     "iopub.status.busy": "2020-08-19T14:31:06.318616Z",
     "iopub.status.idle": "2020-08-19T14:31:06.330330Z",
     "shell.execute_reply": "2020-08-19T14:31:06.329627Z"
    },
    "papermill": {
     "duration": 0.033264,
     "end_time": "2020-08-19T14:31:06.330506",
     "exception": false,
     "start_time": "2020-08-19T14:31:06.297242",
     "status": "completed"
    },
    "tags": []
   },
   "outputs": [],
   "source": [
    "sc = StandardScaler()\n",
    "X_train = sc.fit_transform(X_train)\n",
    "X_test = sc.fit_transform(X_test)"
   ]
  },
  {
   "cell_type": "markdown",
   "execution_count": null,
   "metadata": {
    "papermill": {
     "duration": 0.013588,
     "end_time": "2020-08-19T14:31:06.358175",
     "exception": false,
     "start_time": "2020-08-19T14:31:06.344587",
     "status": "completed"
    },
    "tags": []
   },
   "source": [
    "* Applied standart scaling."
   ]
  },
  {
   "cell_type": "markdown",
   "execution_count": null,
   "metadata": {
    "papermill": {
     "duration": 0.013364,
     "end_time": "2020-08-19T14:31:06.385357",
     "exception": false,
     "start_time": "2020-08-19T14:31:06.371993",
     "status": "completed"
    },
    "tags": []
   },
   "source": [
    "<a id=\"7\"></a>\n",
    "## KNN(K-Nearest Neighbors) Model"
   ]
  },
  {
   "cell_type": "code",
   "execution_count": 21,
   "metadata": {
    "execution": {
     "iopub.execute_input": "2020-08-19T14:31:06.423985Z",
     "iopub.status.busy": "2020-08-19T14:31:06.419774Z",
     "iopub.status.idle": "2020-08-19T14:31:06.465339Z",
     "shell.execute_reply": "2020-08-19T14:31:06.464515Z"
    },
    "papermill": {
     "duration": 0.066245,
     "end_time": "2020-08-19T14:31:06.465508",
     "exception": false,
     "start_time": "2020-08-19T14:31:06.399263",
     "status": "completed"
    },
    "tags": []
   },
   "outputs": [
    {
     "name": "stdout",
     "output_type": "stream",
     "text": [
      "With KNN (K=3) accuracy is:  0.69\n",
      "[[ 20  39]\n",
      " [ 23 118]]\n",
      "              precision    recall  f1-score   support\n",
      "\n",
      "           0       0.47      0.34      0.39        59\n",
      "           1       0.75      0.84      0.79       141\n",
      "\n",
      "    accuracy                           0.69       200\n",
      "   macro avg       0.61      0.59      0.59       200\n",
      "weighted avg       0.67      0.69      0.67       200\n",
      "\n"
     ]
    }
   ],
   "source": [
    "knn_model = KNeighborsClassifier(n_neighbors = 3)\n",
    "knn_model.fit(X_train, y_train)\n",
    "y_pred = knn_model.predict(X_test) \n",
    "print('With KNN (K=3) accuracy is: ',knn_model.score(X_test,y_test))\n",
    "print(confusion_matrix(y_test, y_pred))\n",
    "print(classification_report(y_test, y_pred))"
   ]
  },
  {
   "cell_type": "markdown",
   "execution_count": null,
   "metadata": {
    "papermill": {
     "duration": 0.0139,
     "end_time": "2020-08-19T14:31:06.494005",
     "exception": false,
     "start_time": "2020-08-19T14:31:06.480105",
     "status": "completed"
    },
    "tags": []
   },
   "source": [
    "* Accuracy is 0.69 (K = 3) "
   ]
  },
  {
   "cell_type": "markdown",
   "execution_count": null,
   "metadata": {
    "papermill": {
     "duration": 0.01388,
     "end_time": "2020-08-19T14:31:06.522018",
     "exception": false,
     "start_time": "2020-08-19T14:31:06.508138",
     "status": "completed"
    },
    "tags": []
   },
   "source": [
    "* Checking max. accuracy with graph."
   ]
  },
  {
   "cell_type": "code",
   "execution_count": 22,
   "metadata": {
    "execution": {
     "iopub.execute_input": "2020-08-19T14:31:06.561104Z",
     "iopub.status.busy": "2020-08-19T14:31:06.560225Z",
     "iopub.status.idle": "2020-08-19T14:31:08.694652Z",
     "shell.execute_reply": "2020-08-19T14:31:08.694008Z"
    },
    "papermill": {
     "duration": 2.158606,
     "end_time": "2020-08-19T14:31:08.694780",
     "exception": false,
     "start_time": "2020-08-19T14:31:06.536174",
     "status": "completed"
    },
    "tags": []
   },
   "outputs": [
    {
     "data": {
      "image/png": "[encoded data removed]",
      "text/plain": [
       "<Figure size 864x432 with 1 Axes>"
      ]
     },
     "metadata": {
      "needs_background": "light"
     },
     "output_type": "display_data"
    },
    {
     "name": "stdout",
     "output_type": "stream",
     "text": [
      "Best accuracy is 0.725 with K = 23\n"
     ]
    }
   ],
   "source": [
    "neig = np.arange(1, 25)\n",
    "train_accuracy = []\n",
    "test_accuracy = []\n",
    "# Loop over different values of k\n",
    "for i, k in enumerate(neig):\n",
    "    # k from 1 to 25(exclude)\n",
    "    knn_model = KNeighborsClassifier(n_neighbors=k)\n",
    "    # Fit with knn\n",
    "    knn_model.fit(X_train,y_train)\n",
    "    #train accuracy\n",
    "    train_accuracy.append(knn_model.score(X_train, y_train))\n",
    "    # test accuracy\n",
    "    test_accuracy.append(knn_model.score(X_test, y_test))\n",
    "\n",
    "# Plot\n",
    "plt.figure(figsize=[12,6])\n",
    "plt.plot(neig, test_accuracy, label = 'Testing Accuracy')\n",
    "plt.plot(neig, train_accuracy, label = 'Training Accuracy')\n",
    "plt.legend()\n",
    "plt.title('-value VS Accuracy')\n",
    "plt.xlabel('Number of Neighbors')\n",
    "plt.ylabel('Accuracy')\n",
    "plt.xticks(neig)\n",
    "plt.savefig('graph.png')\n",
    "plt.show()\n",
    "print(\"Best accuracy is {} with K = {}\".format(np.max(test_accuracy),1+test_accuracy.index(np.max(test_accuracy))))"
   ]
  },
  {
   "cell_type": "code",
   "execution_count": 23,
   "metadata": {
    "execution": {
     "iopub.execute_input": "2020-08-19T14:31:08.731749Z",
     "iopub.status.busy": "2020-08-19T14:31:08.730766Z",
     "iopub.status.idle": "2020-08-19T14:31:08.776382Z",
     "shell.execute_reply": "2020-08-19T14:31:08.776903Z"
    },
    "papermill": {
     "duration": 0.067472,
     "end_time": "2020-08-19T14:31:08.777060",
     "exception": false,
     "start_time": "2020-08-19T14:31:08.709588",
     "status": "completed"
    },
    "tags": []
   },
   "outputs": [
    {
     "name": "stdout",
     "output_type": "stream",
     "text": [
      "With KNN (K=23) accuracy is:  0.725\n",
      "[[ 11  48]\n",
      " [  7 134]]\n",
      "              precision    recall  f1-score   support\n",
      "\n",
      "           0       0.61      0.19      0.29        59\n",
      "           1       0.74      0.95      0.83       141\n",
      "\n",
      "    accuracy                           0.73       200\n",
      "   macro avg       0.67      0.57      0.56       200\n",
      "weighted avg       0.70      0.72      0.67       200\n",
      "\n"
     ]
    }
   ],
   "source": [
    "knn_model = KNeighborsClassifier(n_neighbors = 23)\n",
    "knn_model.fit(X_train, y_train)\n",
    "y_pred = knn_model.predict(X_test) \n",
    "print('With KNN (K=23) accuracy is: ',knn_model.score(X_test,y_test))\n",
    "print(confusion_matrix(y_test, y_pred))\n",
    "print(classification_report(y_test, y_pred))"
   ]
  },
  {
   "cell_type": "code",
   "execution_count": 24,
   "metadata": {
    "execution": {
     "iopub.execute_input": "2020-08-19T14:31:08.814570Z",
     "iopub.status.busy": "2020-08-19T14:31:08.813777Z",
     "iopub.status.idle": "2020-08-19T14:31:09.067733Z",
     "shell.execute_reply": "2020-08-19T14:31:09.067100Z"
    },
    "papermill": {
     "duration": 0.275824,
     "end_time": "2020-08-19T14:31:09.067866",
     "exception": false,
     "start_time": "2020-08-19T14:31:08.792042",
     "status": "completed"
    },
    "tags": []
   },
   "outputs": [
    {
     "data": {
      "image/png": "[encoded data removed]",
      "text/plain": [
       "<Figure size 432x288 with 1 Axes>"
      ]
     },
     "metadata": {
      "needs_background": "light"
     },
     "output_type": "display_data"
    }
   ],
   "source": [
    "#Predicting proba\n",
    "y_pred_prob = knn_model.predict_proba(X_test)[:,1]\n",
    "\n",
    "# Generate ROC curve values: fpr, tpr, thresholds\n",
    "fpr, tpr, thresholds = roc_curve(y_test, y_pred_prob)\n",
    "\n",
    "# Plot ROC curve\n",
    "plt.plot([0, 1], [0, 1], 'k--')\n",
    "plt.plot(fpr, tpr)\n",
    "plt.xlabel('False Positive Rate')\n",
    "plt.ylabel('True Positive Rate')\n",
    "plt.title('ROC Curve')\n",
    "plt.show()"
   ]
  },
  {
   "cell_type": "markdown",
   "execution_count": null,
   "metadata": {
    "papermill": {
     "duration": 0.014332,
     "end_time": "2020-08-19T14:31:09.097374",
     "exception": false,
     "start_time": "2020-08-19T14:31:09.083042",
     "status": "completed"
    },
    "tags": []
   },
   "source": [
    "* Max accuracy is 0.725(K=23)"
   ]
  },
  {
   "cell_type": "code",
   "execution_count": 25,
   "metadata": {
    "execution": {
     "iopub.execute_input": "2020-08-19T14:31:09.134714Z",
     "iopub.status.busy": "2020-08-19T14:31:09.133936Z",
     "iopub.status.idle": "2020-08-19T14:31:09.194635Z",
     "shell.execute_reply": "2020-08-19T14:31:09.194023Z"
    },
    "papermill": {
     "duration": 0.082157,
     "end_time": "2020-08-19T14:31:09.194761",
     "exception": false,
     "start_time": "2020-08-19T14:31:09.112604",
     "status": "completed"
    },
    "tags": []
   },
   "outputs": [
    {
     "ename": "NameError",
     "evalue": "name 'model' is not defined",
     "output_type": "error",
     "traceback": [
      "\u001b[0;31m---------------------------------------------------------------------------\u001b[0m",
      "\u001b[0;31mNameError\u001b[0m                                 Traceback (most recent call last)",
      "\u001b[0;32m<ipython-input-25-4d9ff31adec7>\u001b[0m in \u001b[0;36m<module>\u001b[0;34m\u001b[0m\n\u001b[1;32m      1\u001b[0m \u001b[0;31m#Predicting proba\u001b[0m\u001b[0;34m\u001b[0m\u001b[0;34m\u001b[0m\u001b[0;34m\u001b[0m\u001b[0m\n\u001b[0;32m----> 2\u001b[0;31m \u001b[0my_pred_prob\u001b[0m \u001b[0;34m=\u001b[0m \u001b[0mmodel\u001b[0m\u001b[0;34m.\u001b[0m\u001b[0mpredict_proba\u001b[0m\u001b[0;34m(\u001b[0m\u001b[0mX_test\u001b[0m\u001b[0;34m)\u001b[0m\u001b[0;34m[\u001b[0m\u001b[0;34m:\u001b[0m\u001b[0;34m,\u001b[0m\u001b[0;36m1\u001b[0m\u001b[0;34m]\u001b[0m\u001b[0;34m\u001b[0m\u001b[0;34m\u001b[0m\u001b[0m\n\u001b[0m\u001b[1;32m      3\u001b[0m \u001b[0;34m\u001b[0m\u001b[0m\n\u001b[1;32m      4\u001b[0m \u001b[0;31m# Generate ROC curve values: fpr, tpr, thresholds\u001b[0m\u001b[0;34m\u001b[0m\u001b[0;34m\u001b[0m\u001b[0;34m\u001b[0m\u001b[0m\n\u001b[1;32m      5\u001b[0m \u001b[0mfpr\u001b[0m\u001b[0;34m,\u001b[0m \u001b[0mtpr\u001b[0m\u001b[0;34m,\u001b[0m \u001b[0mthresholds\u001b[0m \u001b[0;34m=\u001b[0m \u001b[0mroc_curve\u001b[0m\u001b[0;34m(\u001b[0m\u001b[0my_test\u001b[0m\u001b[0;34m,\u001b[0m \u001b[0my_pred_prob\u001b[0m\u001b[0;34m)\u001b[0m\u001b[0;34m\u001b[0m\u001b[0;34m\u001b[0m\u001b[0m\n",
      "\u001b[0;31mNameError\u001b[0m: name 'model' is not defined"
     ]
    }
   ],
   "source": [
    "#Predicting proba\n",
    "y_pred_prob = model.predict_proba(X_test)[:,1]\n",
    "\n",
    "# Generate ROC curve values: fpr, tpr, thresholds\n",
    "fpr, tpr, thresholds = roc_curve(y_test, y_pred_prob)\n",
    "\n",
    "# Plot ROC curve\n",
    "plt.plot([0, 1], [0, 1], 'k--')\n",
    "plt.plot(fpr, tpr)\n",
    "plt.xlabel('False Positive Rate')\n",
    "plt.ylabel('True Positive Rate')\n",
    "plt.title('ROC Curve')\n",
    "plt.show()"
   ]
  },
  {
   "cell_type": "markdown",
   "execution_count": null,
   "metadata": {
    "papermill": {
     "duration": 0.014877,
     "end_time": "2020-08-19T14:31:09.224977",
     "exception": false,
     "start_time": "2020-08-19T14:31:09.210100",
     "status": "completed"
    },
    "tags": []
   },
   "source": [
    "<a id=\"8\"></a>\n",
    "## SVC(Support Vector Classification) Model"
   ]
  },
  {
   "cell_type": "code",
   "execution_count": 26,
   "metadata": {
    "execution": {
     "iopub.execute_input": "2020-08-19T14:31:09.304547Z",
     "iopub.status.busy": "2020-08-19T14:31:09.303835Z",
     "iopub.status.idle": "2020-08-19T14:31:09.350765Z",
     "shell.execute_reply": "2020-08-19T14:31:09.350088Z"
    },
    "papermill": {
     "duration": 0.109991,
     "end_time": "2020-08-19T14:31:09.350908",
     "exception": false,
     "start_time": "2020-08-19T14:31:09.240917",
     "status": "completed"
    },
    "tags": []
   },
   "outputs": [
    {
     "name": "stdout",
     "output_type": "stream",
     "text": [
      "Accuracy Score: 0.745\n"
     ]
    }
   ],
   "source": [
    "svc_model = SVC(kernel = \"rbf\").fit(X_train, y_train)\n",
    "y_pred = svc_model.predict(X_test)\n",
    "print(\"Accuracy Score:\", accuracy_score(y_test, y_pred))"
   ]
  },
  {
   "cell_type": "markdown",
   "execution_count": null,
   "metadata": {
    "papermill": {
     "duration": 0.014601,
     "end_time": "2020-08-19T14:31:09.380687",
     "exception": false,
     "start_time": "2020-08-19T14:31:09.366086",
     "status": "completed"
    },
    "tags": []
   },
   "source": [
    "* Before Tuning accuracy score is 0.745.  "
   ]
  },
  {
   "cell_type": "code",
   "execution_count": 27,
   "metadata": {
    "execution": {
     "iopub.execute_input": "2020-08-19T14:31:09.419290Z",
     "iopub.status.busy": "2020-08-19T14:31:09.418474Z",
     "iopub.status.idle": "2020-08-19T14:31:22.938707Z",
     "shell.execute_reply": "2020-08-19T14:31:22.939317Z"
    },
    "papermill": {
     "duration": 13.543875,
     "end_time": "2020-08-19T14:31:22.939506",
     "exception": false,
     "start_time": "2020-08-19T14:31:09.395631",
     "status": "completed"
    },
    "tags": []
   },
   "outputs": [
    {
     "name": "stdout",
     "output_type": "stream",
     "text": [
      "Fitting 10 folds for each of 81 candidates, totalling 810 fits\n"
     ]
    },
    {
     "name": "stderr",
     "output_type": "stream",
     "text": [
      "[Parallel(n_jobs=-1)]: Using backend LokyBackend with 4 concurrent workers.\n",
      "[Parallel(n_jobs=-1)]: Done  38 tasks      | elapsed:    2.3s\n",
      "[Parallel(n_jobs=-1)]: Done 516 tasks      | elapsed:    8.7s\n",
      "[Parallel(n_jobs=-1)]: Done 810 out of 810 | elapsed:   13.4s finished\n"
     ]
    },
    {
     "data": {
      "text/plain": [
       "GridSearchCV(cv=10, estimator=SVC(), n_jobs=-1,\n",
       "             param_grid={'C': [0.0001, 0.001, 0.01, 0.1, 1, 5, 10, 50, 100],\n",
       "                         'gamma': [0.0001, 0.001, 0.01, 0.1, 1, 5, 10, 50,\n",
       "                                   100]},\n",
       "             verbose=2)"
      ]
     },
     "execution_count": 27,
     "metadata": {},
     "output_type": "execute_result"
    }
   ],
   "source": [
    "svc_params ={\"C\": [0.0001, 0.001, 0.01, 0.1, 1, 5, 10, 50, 100]\n",
    "             ,\"gamma\": [0.0001, 0.001, 0.01, 0.1, 1, 5, 10, 50, 100]}\n",
    "svc = SVC()\n",
    "svc_cv_model = GridSearchCV(svc, svc_params, cv = 10, n_jobs = -1, verbose = 2)\n",
    "svc_cv_model.fit(X_train, y_train)"
   ]
  },
  {
   "cell_type": "code",
   "execution_count": 28,
   "metadata": {
    "execution": {
     "iopub.execute_input": "2020-08-19T14:31:22.977313Z",
     "iopub.status.busy": "2020-08-19T14:31:22.976494Z",
     "iopub.status.idle": "2020-08-19T14:31:22.980869Z",
     "shell.execute_reply": "2020-08-19T14:31:22.980074Z"
    },
    "papermill": {
     "duration": 0.025332,
     "end_time": "2020-08-19T14:31:22.980995",
     "exception": false,
     "start_time": "2020-08-19T14:31:22.955663",
     "status": "completed"
    },
    "tags": []
   },
   "outputs": [
    {
     "name": "stdout",
     "output_type": "stream",
     "text": [
      "Best Parameters: {'C': 10, 'gamma': 0.01}\n"
     ]
    }
   ],
   "source": [
    "print(\"Best Parameters: \"+ str(svc_cv_model.best_params_))"
   ]
  },
  {
   "cell_type": "code",
   "execution_count": 29,
   "metadata": {
    "execution": {
     "iopub.execute_input": "2020-08-19T14:31:23.019640Z",
     "iopub.status.busy": "2020-08-19T14:31:23.018897Z",
     "iopub.status.idle": "2020-08-19T14:31:23.070571Z",
     "shell.execute_reply": "2020-08-19T14:31:23.069934Z"
    },
    "papermill": {
     "duration": 0.073635,
     "end_time": "2020-08-19T14:31:23.070703",
     "exception": false,
     "start_time": "2020-08-19T14:31:22.997068",
     "status": "completed"
    },
    "tags": []
   },
   "outputs": [
    {
     "name": "stdout",
     "output_type": "stream",
     "text": [
      "Accuracy Score: 0.745\n"
     ]
    }
   ],
   "source": [
    "svc_tuned = SVC(C = 10, gamma = 0.01).fit(X_train, y_train)\n",
    "y_pred = svc_model.predict(X_test)\n",
    "print(\"Accuracy Score:\", accuracy_score(y_test, y_pred))"
   ]
  },
  {
   "cell_type": "markdown",
   "execution_count": null,
   "metadata": {
    "papermill": {
     "duration": 0.01543,
     "end_time": "2020-08-19T14:31:23.102049",
     "exception": false,
     "start_time": "2020-08-19T14:31:23.086619",
     "status": "completed"
    },
    "tags": []
   },
   "source": [
    "* After Tuning accuracy score same with before tuning so, 0.745."
   ]
  },
  {
   "cell_type": "markdown",
   "execution_count": null,
   "metadata": {
    "papermill": {
     "duration": 0.015631,
     "end_time": "2020-08-19T14:31:23.133438",
     "exception": false,
     "start_time": "2020-08-19T14:31:23.117807",
     "status": "completed"
    },
    "tags": []
   },
   "source": [
    "<a id=\"9\"></a>\n",
    "## XGBoost Model"
   ]
  },
  {
   "cell_type": "code",
   "execution_count": 30,
   "metadata": {
    "execution": {
     "iopub.execute_input": "2020-08-19T14:31:23.171167Z",
     "iopub.status.busy": "2020-08-19T14:31:23.170514Z",
     "iopub.status.idle": "2020-08-19T14:31:23.285009Z",
     "shell.execute_reply": "2020-08-19T14:31:23.284286Z"
    },
    "papermill": {
     "duration": 0.13608,
     "end_time": "2020-08-19T14:31:23.285151",
     "exception": false,
     "start_time": "2020-08-19T14:31:23.149071",
     "status": "completed"
    },
    "tags": []
   },
   "outputs": [
    {
     "name": "stdout",
     "output_type": "stream",
     "text": [
      "0.735\n"
     ]
    }
   ],
   "source": [
    "xgb = XGBClassifier()\n",
    "xgb.fit(X_train, y_train)\n",
    "y_pred_xgb = xgb.predict(X_test)\n",
    "print(accuracy_score(y_pred_xgb, y_test))"
   ]
  },
  {
   "cell_type": "markdown",
   "execution_count": null,
   "metadata": {
    "papermill": {
     "duration": 0.022087,
     "end_time": "2020-08-19T14:31:23.329618",
     "exception": false,
     "start_time": "2020-08-19T14:31:23.307531",
     "status": "completed"
    },
    "tags": []
   },
   "source": [
    "* Before tuning accuracy score is 0.735."
   ]
  },
  {
   "cell_type": "code",
   "execution_count": 31,
   "metadata": {
    "execution": {
     "iopub.execute_input": "2020-08-19T14:31:23.383368Z",
     "iopub.status.busy": "2020-08-19T14:31:23.382554Z",
     "iopub.status.idle": "2020-08-19T15:07:20.652646Z",
     "shell.execute_reply": "2020-08-19T15:07:20.649838Z"
    },
    "papermill": {
     "duration": 2157.300164,
     "end_time": "2020-08-19T15:07:20.652888",
     "exception": false,
     "start_time": "2020-08-19T14:31:23.352724",
     "status": "completed"
    },
    "tags": []
   },
   "outputs": [
    {
     "name": "stdout",
     "output_type": "stream",
     "text": [
      "Fitting 10 folds for each of 576 candidates, totalling 5760 fits\n"
     ]
    },
    {
     "name": "stderr",
     "output_type": "stream",
     "text": [
      "[Parallel(n_jobs=-1)]: Using backend LokyBackend with 4 concurrent workers.\n",
      "[Parallel(n_jobs=-1)]: Done  33 tasks      | elapsed:    2.5s\n",
      "[Parallel(n_jobs=-1)]: Done 154 tasks      | elapsed:   35.0s\n",
      "[Parallel(n_jobs=-1)]: Done 357 tasks      | elapsed:  1.6min\n",
      "[Parallel(n_jobs=-1)]: Done 640 tasks      | elapsed:  3.0min\n",
      "[Parallel(n_jobs=-1)]: Done 1005 tasks      | elapsed:  5.3min\n",
      "[Parallel(n_jobs=-1)]: Done 1450 tasks      | elapsed:  8.8min\n",
      "[Parallel(n_jobs=-1)]: Done 1977 tasks      | elapsed: 11.3min\n",
      "[Parallel(n_jobs=-1)]: Done 2584 tasks      | elapsed: 15.3min\n",
      "[Parallel(n_jobs=-1)]: Done 3273 tasks      | elapsed: 19.6min\n",
      "[Parallel(n_jobs=-1)]: Done 4042 tasks      | elapsed: 24.5min\n",
      "[Parallel(n_jobs=-1)]: Done 4893 tasks      | elapsed: 29.7min\n"
     ]
    },
    {
     "name": "stdout",
     "output_type": "stream",
     "text": [
      "[15:07:20] WARNING: /workspace/src/learner.cc:480: \n",
      "Parameters: { min_samples_split } might not be used.\n",
      "\n",
      "  This may not be accurate due to some parameters are only used in language bindings but\n",
      "  passed down to XGBoost core.  Or some parameters are not used but slip through this\n",
      "  verification. Please open an issue if you find above cases.\n",
      "\n",
      "\n"
     ]
    },
    {
     "name": "stderr",
     "output_type": "stream",
     "text": [
      "[Parallel(n_jobs=-1)]: Done 5760 out of 5760 | elapsed: 36.0min finished\n"
     ]
    },
    {
     "data": {
      "text/plain": [
       "GridSearchCV(cv=10,\n",
       "             estimator=XGBClassifier(base_score=None, booster=None,\n",
       "                                     colsample_bylevel=None,\n",
       "                                     colsample_bynode=None,\n",
       "                                     colsample_bytree=None, gamma=None,\n",
       "                                     gpu_id=None, importance_type='gain',\n",
       "                                     interaction_constraints=None,\n",
       "                                     learning_rate=None, max_delta_step=None,\n",
       "                                     max_depth=None, min_child_weight=None,\n",
       "                                     missing=nan, monotone_constraints=None,\n",
       "                                     n_estimators=100, n_job...,\n",
       "                                     num_parallel_tree=None, random_state=None,\n",
       "                                     reg_alpha=None, reg_lambda=None,\n",
       "                                     scale_pos_weight=None, subsample=None,\n",
       "                                     tree_method=None, validate_parameters=None,\n",
       "                                     verbosity=None),\n",
       "             n_jobs=-1,\n",
       "             param_grid={'learning_rate': [0.1, 0.01, 0.02, 0.05],\n",
       "                         'max_depth': [3, 4, 5, 6],\n",
       "                         'min_samples_split': [2, 5, 10],\n",
       "                         'n_estimators': [100, 500, 1000, 2000],\n",
       "                         'subsample': [0.6, 0.8, 1.0]},\n",
       "             verbose=2)"
      ]
     },
     "execution_count": 31,
     "metadata": {},
     "output_type": "execute_result"
    }
   ],
   "source": [
    "xgb_params = {\"n_estimators\": [100, 500, 1000, 2000],\n",
    "             \"subsample\": [0.6, 0.8, 1.0],\n",
    "             \"max_depth\": [3, 4, 5, 6],\n",
    "             \"learning_rate\": [0.1, 0.01, 0.02, 0.05],\n",
    "             \"min_samples_split\": [2,5,10]}\n",
    "xgb = XGBClassifier()\n",
    "xgb_cv_model = GridSearchCV(xgb, xgb_params, cv = 10, n_jobs = -1, verbose = 2)\n",
    "xgb_cv_model.fit(X_train, y_train)"
   ]
  },
  {
   "cell_type": "code",
   "execution_count": 32,
   "metadata": {
    "execution": {
     "iopub.execute_input": "2020-08-19T15:07:20.711298Z",
     "iopub.status.busy": "2020-08-19T15:07:20.710252Z",
     "iopub.status.idle": "2020-08-19T15:07:20.713733Z",
     "shell.execute_reply": "2020-08-19T15:07:20.714418Z"
    },
    "papermill": {
     "duration": 0.037889,
     "end_time": "2020-08-19T15:07:20.714603",
     "exception": false,
     "start_time": "2020-08-19T15:07:20.676714",
     "status": "completed"
    },
    "tags": []
   },
   "outputs": [
    {
     "name": "stdout",
     "output_type": "stream",
     "text": [
      "Best Parameters: {'learning_rate': 0.05, 'max_depth': 5, 'min_samples_split': 2, 'n_estimators': 100, 'subsample': 0.8}\n"
     ]
    }
   ],
   "source": [
    "print(\"Best Parameters: \"+ str(xgb_cv_model.best_params_))"
   ]
  },
  {
   "cell_type": "code",
   "execution_count": 33,
   "metadata": {
    "execution": {
     "iopub.execute_input": "2020-08-19T15:07:20.770773Z",
     "iopub.status.busy": "2020-08-19T15:07:20.769823Z",
     "iopub.status.idle": "2020-08-19T15:07:20.852769Z",
     "shell.execute_reply": "2020-08-19T15:07:20.853459Z"
    },
    "papermill": {
     "duration": 0.115496,
     "end_time": "2020-08-19T15:07:20.853643",
     "exception": false,
     "start_time": "2020-08-19T15:07:20.738147",
     "status": "completed"
    },
    "tags": []
   },
   "outputs": [
    {
     "name": "stdout",
     "output_type": "stream",
     "text": [
      "[15:07:20] WARNING: /workspace/src/learner.cc:480: \n",
      "Parameters: { min_samples_split } might not be used.\n",
      "\n",
      "  This may not be accurate due to some parameters are only used in language bindings but\n",
      "  passed down to XGBoost core.  Or some parameters are not used but slip through this\n",
      "  verification. Please open an issue if you find above cases.\n",
      "\n",
      "\n",
      "Accuracy Score: 0.79\n"
     ]
    }
   ],
   "source": [
    "xgb = XGBClassifier(learning_rate = 0.05, max_depth = 5, min_samples_split=2,n_estimators=100,subsample=0.8 )\n",
    "xgb_tuned = xgb.fit(X_train,y_train)\n",
    "y_pred = xgb_tuned.predict(X_test)\n",
    "print(\"Accuracy Score:\", accuracy_score(y_test, y_pred))"
   ]
  },
  {
   "cell_type": "markdown",
   "execution_count": null,
   "metadata": {
    "papermill": {
     "duration": 0.023509,
     "end_time": "2020-08-19T15:07:20.900799",
     "exception": false,
     "start_time": "2020-08-19T15:07:20.877290",
     "status": "completed"
    },
    "tags": []
   },
   "source": [
    "* After tuning accuracy score is 0.79."
   ]
  }
 ],
 "metadata": {
  "kernelspec": {
   "display_name": "Python 3",
   "language": "python",
   "name": "python3"
  },
  "language_info": {
   "codemirror_mode": {
    "name": "ipython",
    "version": 3
   },
   "file_extension": ".py",
   "mimetype": "text/x-python",
   "name": "python",
   "nbconvert_exporter": "python",
   "pygments_lexer": "ipython3",
   "version": "3.7.6"
  },
  "papermill": {
   "duration": 2189.030036,
   "end_time": "2020-08-19T15:07:21.048823",
   "environment_variables": {},
   "exception": null,
   "input_path": "__notebook__.ipynb",
   "output_path": "__notebook__.ipynb",
   "parameters": {},
   "start_time": "2020-08-19T14:30:52.018787",
   "version": "2.1.0"
  }
 },
 "nbformat": 4,
 "nbformat_minor": 4
}
